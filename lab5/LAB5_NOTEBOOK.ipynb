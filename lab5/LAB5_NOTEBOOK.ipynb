{
 "cells": [
  {
   "cell_type": "markdown",
   "id": "da19e4d4",
   "metadata": {},
   "source": [
    "# Распознавание объектов на фотографиях\n",
    "\n",
    "\n",
    "\n",
    "# Цель\n",
    "Распознавание объектов на фотографиях (Object Recognition in Photographs)\n",
    "CIFAR-10 (классификация небольших изображений по десяти классам: самолет,\n",
    "автомобиль, птица, кошка, олень, собака, лягушка, лошадь, корабль и грузовик).\n",
    "\n",
    "# Задачи\n",
    "\n",
    "* Ознакомиться со сверточными нейронными сетями\n",
    "* Изучить построение модели в Keras в функциональном виде\n",
    "* Изучить работу слоя разреживания (Dropout)\n",
    "\n",
    "# Выполнение работы\n",
    "\n",
    "\n",
    "### Подключение модулей\n",
    "Набор данных CIFRA-10 уже входит в состав Keras в форме набора из четырех массивов Numpy."
   ]
  },
  {
   "cell_type": "code",
   "execution_count": 1,
   "id": "bbe768b8",
   "metadata": {
    "scrolled": true
   },
   "outputs": [],
   "source": [
    "import sys\n",
    "import tensorflow as tf\n",
    "from matplotlib import pyplot\n",
    "from keras.datasets import cifar10\n",
    "from tensorflow.keras.utils import to_categorical\n",
    "from tensorflow.keras.models import Sequential\n",
    "from tensorflow.keras.layers import Conv2D\n",
    "from tensorflow.keras.layers import MaxPooling2D\n",
    "from tensorflow.keras.layers import Dense\n",
    "from tensorflow.keras.layers import Flatten\n",
    "from tensorflow.keras.layers import Dropout\n",
    "from tensorflow.keras.optimizers import SGD\n"
   ]
  },
  {
   "cell_type": "markdown",
   "id": "6e88c87f",
   "metadata": {},
   "source": [
    "Напишем функцию для загрузки тренеровочных и тестовых данных"
   ]
  },
  {
   "cell_type": "code",
   "execution_count": 2,
   "id": "fe9082f0",
   "metadata": {},
   "outputs": [],
   "source": [
    "def load_dataset():\n",
    "    # Загружаем данные\n",
    "    (trainX, trainY), (testX, testY) = cifar10.load_data()\n",
    "   \n",
    "    # кодируем метки\n",
    "    trainY = to_categorical(trainY)\n",
    "    testY = to_categorical(testY)\n",
    "    \n",
    "    return trainX, trainY, testX, testY"
   ]
  },
  {
   "cell_type": "markdown",
   "id": "abb4c76e",
   "metadata": {},
   "source": [
    "Создадим функцию которая преобразует наши данные в необходимы маштаб"
   ]
  },
  {
   "cell_type": "code",
   "execution_count": 3,
   "id": "b9bbf6a9",
   "metadata": {},
   "outputs": [],
   "source": [
    "def prep_pixels(train, test):\n",
    "    train_norm = train.astype('float32')\n",
    "    test_norm = test.astype('float32')\n",
    "    train_norm = train_norm / 255.0\n",
    "    test_norm = test_norm / 255.0\n",
    "    return train_norm, test_norm"
   ]
  },
  {
   "cell_type": "markdown",
   "id": "2a8f3a85",
   "metadata": {},
   "source": [
    "Создадим модель обучения с Dropout"
   ]
  },
  {
   "cell_type": "code",
   "execution_count": 4,
   "id": "37f01c95",
   "metadata": {},
   "outputs": [],
   "source": [
    "def define_model_with_Drop():\n",
    "    model = Sequential()\n",
    "    model.add(Conv2D(64, (3, 3), activation='relu', input_shape=(32, 32, 3)))\n",
    "    model.add(Conv2D(64, (3, 3), activation='relu'))\n",
    "    model.add(MaxPooling2D((2, 2)))\n",
    "    model.add(Dropout(0.2))\n",
    "    model.add(Flatten())\n",
    "    model.add(Dense(128, activation='relu'))\n",
    "    model.add(Dropout(0.2))\n",
    "    model.add(Dense(10, activation='softmax'))\n",
    "    opt = SGD(learning_rate=0.001, momentum=0.9)\n",
    "    model.compile(optimizer=opt, loss='categorical_crossentropy', metrics=['accuracy'])\n",
    "    return model"
   ]
  },
  {
   "cell_type": "markdown",
   "id": "0547ddd3",
   "metadata": {},
   "source": [
    "Создадим модель обучения без Dropout"
   ]
  },
  {
   "cell_type": "code",
   "execution_count": 5,
   "id": "c2d6339c",
   "metadata": {},
   "outputs": [],
   "source": [
    "def define_model():\n",
    "    model = Sequential()\n",
    "    model.add(Conv2D(64, (3, 3), activation='relu', input_shape=(32, 32, 3)))\n",
    "    model.add(Conv2D(64, (3, 3), activation='relu'))\n",
    "    model.add(MaxPooling2D((2, 2)))\n",
    "    model.add(Flatten())\n",
    "    model.add(Dense(128, activation='relu'))\n",
    "    model.add(Dense(10, activation='softmax'))\n",
    "    # compile model\n",
    "    opt = SGD(learning_rate=0.001, momentum=0.9)\n",
    "    model.compile(optimizer=opt, loss='categorical_crossentropy', metrics=['accuracy'])\n",
    "   \n",
    "    return model"
   ]
  },
  {
   "cell_type": "markdown",
   "id": "7039a7b0",
   "metadata": {},
   "source": [
    "Создадим функию отрисовки"
   ]
  },
  {
   "cell_type": "code",
   "execution_count": 6,
   "id": "8f2bd5cc",
   "metadata": {},
   "outputs": [],
   "source": [
    "# plot diagnostic learning curves\n",
    "def summarize_diagnostics(history):\n",
    "    pyplot.subplot(211)\n",
    "    pyplot.title('Cross Entropy Loss')\n",
    "    pyplot.plot(history.history['loss'], color='blue', label='train')\n",
    "    pyplot.plot(history.history['val_loss'], color='orange', label='test')\n",
    "    pyplot.show()\n",
    "    \n",
    "    # plot accuracy\n",
    "    pyplot.subplot(212)\n",
    "    pyplot.title('Classification Accuracy')\n",
    "    pyplot.plot(history.history['accuracy'], color='blue', label='train')\n",
    "    pyplot.plot(history.history['val_accuracy'], color='orange', label='test')\n",
    "    pyplot.show()"
   ]
  },
  {
   "cell_type": "markdown",
   "id": "d5499908",
   "metadata": {},
   "source": [
    "Функция запуска нашей нейроной сети"
   ]
  },
  {
   "cell_type": "code",
   "execution_count": 7,
   "id": "ca03e483",
   "metadata": {},
   "outputs": [],
   "source": [
    "def run_test_harness(d):\n",
    "    trainX, trainY, testX, testY = load_dataset()\n",
    "    trainX, testX = prep_pixels(trainX, testX)\n",
    "    \n",
    "    if d == 0:\n",
    "        model = define_model()\n",
    "    else:\n",
    "        model = define_model_with_Drop()\n",
    "    \n",
    "    #Обцчение сети\n",
    "    history = model.fit(trainX, trainY, epochs=50, batch_size=64, validation_data=(testX, testY), verbose=1)\n",
    "    \n",
    "    #Оценка модели\n",
    "    _, acc = model.evaluate(testX, testY, verbose=0)\n",
    "    print('> %.3f' % (acc * 100.0))\n",
    "   \n",
    "    #Отрисовка\n",
    "    summarize_diagnostics(history)"
   ]
  },
  {
   "cell_type": "markdown",
   "id": "eea92253",
   "metadata": {},
   "source": [
    "Запустим модель с Dropout"
   ]
  },
  {
   "cell_type": "code",
   "execution_count": null,
   "id": "5a23435d",
   "metadata": {},
   "outputs": [
    {
     "name": "stdout",
     "output_type": "stream",
     "text": [
      "Epoch 1/50\n"
     ]
    }
   ],
   "source": [
    "run_test_harness(1)"
   ]
  },
  {
   "cell_type": "markdown",
   "id": "4b2019d4",
   "metadata": {},
   "source": [
    "Запустим модель без Dropout"
   ]
  },
  {
   "cell_type": "code",
   "execution_count": null,
   "id": "9bdeaad3",
   "metadata": {},
   "outputs": [],
   "source": [
    "run_test_harness(0)"
   ]
  }
 ],
 "metadata": {
  "kernelspec": {
   "display_name": "Python 3 (ipykernel)",
   "language": "python",
   "name": "python3"
  },
  "language_info": {
   "codemirror_mode": {
    "name": "ipython",
    "version": 3
   },
   "file_extension": ".py",
   "mimetype": "text/x-python",
   "name": "python",
   "nbconvert_exporter": "python",
   "pygments_lexer": "ipython3",
   "version": "3.9.10"
  }
 },
 "nbformat": 4,
 "nbformat_minor": 5
}
