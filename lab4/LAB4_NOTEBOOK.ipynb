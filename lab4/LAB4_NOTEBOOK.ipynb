{
 "cells": [
  {
   "cell_type": "markdown",
   "id": "da19e4d4",
   "metadata": {},
   "source": [
    "# Распознавание рукописных символов\n",
    "\n",
    "\n",
    "# Цель\n",
    "Реализовать классификацию черно-белых изображений рукописных цифр (28x28) по 10\n",
    "категориям (от 0 до 9).\n",
    "\n",
    "Набор данных содержит 60,000 изображений для обучения и 10,000 изображений для\n",
    "тестирования.\n",
    "\n",
    "# Задачи\n",
    "\n",
    "* Ознакомиться с представлением графических данных\n",
    "* Ознакомиться с простейшим способом передачи графических данных нейронной\n",
    "сети\n",
    "* Создать модель\n",
    "* Настроить параметры обучения\n",
    "* Написать функцию, позволяющая загружать изображение пользователи и классифицировать его\n",
    "\n",
    "# Выполнение работы\n",
    "\n",
    "\n",
    "### Подключение модулей\n",
    "Набор данных MNIST уже входит в состав Keras в форме набора из четырех массивов Numpy."
   ]
  },
  {
   "cell_type": "code",
   "execution_count": 1,
   "id": "bbe768b8",
   "metadata": {
    "scrolled": true
   },
   "outputs": [],
   "source": [
    "import tensorflow as tf\n",
    "from numpy import asarray, argmax\n",
    "from PIL.ImageOps import invert\n",
    "from PIL.Image import open\n",
    "from tensorflow.keras.layers import Dense, Activation, Flatten\n",
    "from tensorflow.keras.models import Sequential\n",
    "#from tensorflow.keras.datasets import boston_housing\n",
    "\n",
    "\n",
    "\n",
    "import matplotlib.pyplot as plt\n",
    "%matplotlib inline\n"
   ]
  },
  {
   "cell_type": "markdown",
   "id": "f56a2b21",
   "metadata": {},
   "source": [
    "Здесь train_images и train_labels — это тренировочный набор, то есть данные,\n",
    "необходимые для обучения. После обучения модель будет проверяться тестовым (или\n",
    "контрольным) набором, test_images и test_labels. Изображения хранятся в массивах\n",
    "Numpy, а метки — в массиве цифр от 0 до 9. Изображения и метки находятся в прямом\n",
    "соответствии, один к одному."
   ]
  },
  {
   "cell_type": "code",
   "execution_count": 2,
   "id": "c2d6339c",
   "metadata": {},
   "outputs": [
    {
     "name": "stdout",
     "output_type": "stream",
     "text": [
      "train_images shape (60000, 28, 28)\n",
      "train_labels shape (60000,)\n",
      "test_images shape (10000, 28, 28)\n",
      "test_labels shape (10000,)\n"
     ]
    }
   ],
   "source": [
    "mnist = tf.keras.datasets.mnist\n",
    "(train_images, train_labels),(test_images, test_labels) = mnist.load_data()\n",
    "\n",
    "print(\"train_images shape\", train_images.shape)\n",
    "print(\"train_labels shape\",  train_labels.shape)\n",
    "print(\"test_images shape\", test_images.shape)\n",
    "print(\"test_labels shape\", test_labels.shape)"
   ]
  },
  {
   "cell_type": "markdown",
   "id": "7039a7b0",
   "metadata": {},
   "source": [
    "Для проверки корректности загрузки достаточно сравнить тестовое изображение с его меткой."
   ]
  },
  {
   "cell_type": "code",
   "execution_count": 3,
   "id": "8f2bd5cc",
   "metadata": {},
   "outputs": [
    {
     "data": {
      "image/png": "[encoded data removed]",
      "text/plain": [
       "<Figure size 432x288 with 1 Axes>"
      ]
     },
     "metadata": {
      "needs_background": "light"
     },
     "output_type": "display_data"
    },
    {
     "name": "stdout",
     "output_type": "stream",
     "text": [
      "2\n"
     ]
    }
   ],
   "source": [
    "plt.imshow(train_images[5],cmap=plt.cm.binary)\n",
    "plt.show()\n",
    "print(train_labels[5])"
   ]
  },
  {
   "cell_type": "markdown",
   "id": "d5499908",
   "metadata": {},
   "source": [
    "Исходные изображения представлены в виде массивов чисел в интервале [0, 255]. Перед обучением их необходимо преобразовать так, чтобы все значения оказались в интервале [0, 1]."
   ]
  },
  {
   "cell_type": "code",
   "execution_count": 4,
   "id": "ca03e483",
   "metadata": {},
   "outputs": [],
   "source": [
    "\n",
    "train_images = train_images.astype('float32')\n",
    "test_images = test_images.astype('float32')\n",
    "\n",
    "train_images = train_images / 255.0\n",
    "test_images = test_images / 255.0"
   ]
  },
  {
   "cell_type": "markdown",
   "id": "b231540e",
   "metadata": {},
   "source": [
    "Также необходимо закодировать метки категорий. В данном случае прямое кодирование меток заключается в конструировании вектора с нулевыми элементами со значением 1 в элементе, индекс которого соответствует индексу метки."
   ]
  },
  {
   "cell_type": "code",
   "execution_count": 5,
   "id": "18a3a7f3",
   "metadata": {},
   "outputs": [],
   "source": [
    "train_labels = tf.keras.utils.to_categorical(train_labels)\n",
    "test_labels = tf.keras.utils.to_categorical(test_labels)"
   ]
  },
  {
   "cell_type": "code",
   "execution_count": 6,
   "id": "6f957c05",
   "metadata": {},
   "outputs": [],
   "source": [
    "model = Sequential()\n",
    "model.add(Flatten(input_shape=(28, 28))) # ВЫравниевание\n",
    "model.add(Dense(128, activation=\"relu\"))\n",
    "model.add(Dense(128, activation=\"relu\"))\n",
    "model.add(Dense(10, activation=\"softmax\"))"
   ]
  },
  {
   "cell_type": "markdown",
   "id": "6bc387ff",
   "metadata": {},
   "source": [
    "Чтобы подготовить сеть к обучению, нужно настроить еще три параметра для этапа\n",
    "компиляции:\n",
    "1. функцию потерь, которая определяет, как сеть должна оценивать качество своей работы на обучающих данных и, соответственно, как корректировать ее в правильном направлении;\n",
    "2. оптимизатор — механизм, с помощью которого сеть будет обновлять себя, опираясь на наблюдаемые данные и функцию потерь;\n",
    "3. метрики для мониторинга на этапах обучения и тестирования — здесь нас будет\n",
    "интересовать только точность (доля правильно классифицированных\n",
    "изображений)."
   ]
  },
  {
   "cell_type": "code",
   "execution_count": 7,
   "id": "4fa1b3de",
   "metadata": {},
   "outputs": [],
   "source": [
    "model.compile(optimizer='adam',loss='categorical_crossentropy', metrics=['accuracy'])"
   ]
  },
  {
   "cell_type": "markdown",
   "id": "fade2a04",
   "metadata": {},
   "source": [
    "Теперь можно начинать обучение сети."
   ]
  },
  {
   "cell_type": "code",
   "execution_count": 8,
   "id": "104d3fa0",
   "metadata": {},
   "outputs": [
    {
     "name": "stdout",
     "output_type": "stream",
     "text": [
      "Epoch 1/5\n",
      "469/469 [==============================] - 7s 10ms/step - loss: 0.3105 - accuracy: 0.9115\n",
      "Epoch 2/5\n",
      "469/469 [==============================] - 5s 10ms/step - loss: 0.1253 - accuracy: 0.9626\n",
      "Epoch 3/5\n",
      "469/469 [==============================] - 4s 10ms/step - loss: 0.0875 - accuracy: 0.9738\n",
      "Epoch 4/5\n",
      "469/469 [==============================] - 5s 10ms/step - loss: 0.0658 - accuracy: 0.9798\n",
      "Epoch 5/5\n",
      "469/469 [==============================] - 5s 10ms/step - loss: 0.0511 - accuracy: 0.9845\n"
     ]
    },
    {
     "data": {
      "text/plain": [
       "<keras.callbacks.History at 0x1ac83111dc0>"
      ]
     },
     "execution_count": 8,
     "metadata": {},
     "output_type": "execute_result"
    }
   ],
   "source": [
    "model.fit(train_images, train_labels, epochs=5, batch_size=128)"
   ]
  },
  {
   "cell_type": "markdown",
   "id": "52c9d294",
   "metadata": {},
   "source": [
    "Теперь проверим, как модель распознает контрольный набор:"
   ]
  },
  {
   "cell_type": "code",
   "execution_count": 9,
   "id": "5caf525a",
   "metadata": {},
   "outputs": [
    {
     "name": "stdout",
     "output_type": "stream",
     "text": [
      "313/313 [==============================] - 3s 8ms/step - loss: 0.0720 - accuracy: 0.9770\n",
      "test_acc: 0.9769999980926514\n"
     ]
    }
   ],
   "source": [
    "test_loss, test_acc = model.evaluate(test_images, test_labels)\n",
    "print('test_acc:', test_acc)"
   ]
  },
  {
   "cell_type": "markdown",
   "id": "46e9cdc6",
   "metadata": {},
   "source": [
    "Попробуем запредиктить нашу картинку"
   ]
  },
  {
   "cell_type": "code",
   "execution_count": 10,
   "id": "1423294c",
   "metadata": {},
   "outputs": [
    {
     "name": "stdout",
     "output_type": "stream",
     "text": [
      "Вероятность 0 = 0.018%\n",
      "Вероятность 1 = 0.015%\n",
      "Вероятность 2 = 0.234%\n",
      "Вероятность 3 = 3.651%\n",
      "Вероятность 4 = 0.021%\n",
      "Вероятность 5 = 0.012%\n",
      "Вероятность 6 = 0.005%\n",
      "Вероятность 7 = 0.004%\n",
      "Вероятность 8 = 96.03%\n",
      "Вероятность 9 = 0.009%\n"
     ]
    }
   ],
   "source": [
    "def customNumber():\n",
    "    img = asarray(invert(open('num.png').convert(mode=\"L\")))\n",
    "    img = img / 255.0\n",
    "    img = img.reshape(-1, 28, 28)\n",
    "    return img\n",
    "x = customNumber()\n",
    "a = model.predict(x)\n",
    "i = 0\n",
    "\n",
    "for el in a[0]:\n",
    "    print(f\"Вероятность {i} = {round(float(el)*100, 3)}%\")\n",
    "    i += 1"
   ]
  },
  {
   "cell_type": "markdown",
   "id": "1021ee79",
   "metadata": {},
   "source": [
    "При вводе картинки с цифрой 3 все еще может выдаваться неудовлетворительный результат.\n",
    "Поэтому попробуем поменять модель обучения. А именно - вместо Sequential() будем использовать Model(). Разницы в обучении нет, но Model можно более точно скорректировать."
   ]
  },
  {
   "cell_type": "code",
   "execution_count": 11,
   "id": "36278ccb",
   "metadata": {},
   "outputs": [
    {
     "name": "stdout",
     "output_type": "stream",
     "text": [
      "Epoch 1/5\n",
      "200/200 [==============================] - 13s 41ms/step - loss: 0.0986 - accuracy: 0.9703\n",
      "Epoch 2/5\n",
      "200/200 [==============================] - 8s 41ms/step - loss: 0.0274 - accuracy: 0.9920\n",
      "Epoch 3/5\n",
      "200/200 [==============================] - 8s 41ms/step - loss: 0.0179 - accuracy: 0.9947\n",
      "Epoch 4/5\n",
      "200/200 [==============================] - 8s 41ms/step - loss: 0.0126 - accuracy: 0.9963\n",
      "Epoch 5/5\n",
      "200/200 [==============================] - 8s 41ms/step - loss: 0.0091 - accuracy: 0.9975\n",
      "313/313 [==============================] - 4s 12ms/step - loss: 0.0260 - accuracy: 0.9906\n",
      "test_acc: 0.9905999898910522\n"
     ]
    }
   ],
   "source": [
    "from tensorflow.keras.layers import Conv2D\n",
    "from tensorflow.keras.layers import BatchNormalization\n",
    "from tensorflow.keras.layers import MaxPooling2D\n",
    "from tensorflow.keras.layers import Dropout\n",
    "\n",
    "mnist = tf.keras.datasets.mnist\n",
    "(train_images, train_labels),(test_images, test_labels) = mnist.load_data()\n",
    "\n",
    "train_images = train_images.reshape(60000, 28,28,1)\n",
    "test_images = test_images.reshape(10000, 28,28,1)\n",
    "\n",
    "\n",
    "train_images = train_images.astype('float32') # Flatten data to 1D\n",
    "test_images = test_images.astype('float32') # Flatten data to 1D\n",
    "\n",
    "train_images = train_images / 255.0\n",
    "test_images = test_images / 255.0\n",
    "\n",
    "train_labels = tf.keras.utils.to_categorical(train_labels)\n",
    "test_labels = tf.keras.utils.to_categorical(test_labels)\n",
    "\n",
    "model = Sequential()\n",
    "\n",
    "# Convolution Layer 1\n",
    "model.add(Conv2D(32, (3, 3), input_shape=(28,28,1))) # 32 different 3x3 kernels -- so 32 feature maps\n",
    "model.add(BatchNormalization(axis=-1))               # normalize each feature map before activation\n",
    "convLayer01 = Activation('relu')                     # activation\n",
    "model.add(convLayer01)\n",
    "\n",
    "# Convolution Layer 2\n",
    "model.add(Conv2D(32, (3, 3)))                        # 32 different 3x3 kernels -- so 32 feature maps\n",
    "model.add(BatchNormalization(axis=-1))               # normalize each feature map before activation\n",
    "model.add(Activation('relu'))                        # activation\n",
    "convLayer02 = MaxPooling2D(pool_size=(2,2))          # Pool the max values over a 2x2 kernel\n",
    "model.add(convLayer02)\n",
    "\n",
    "# Convolution Layer 3\n",
    "model.add(Conv2D(64,(3, 3)))                         # 64 different 3x3 kernels -- so 64 feature maps\n",
    "model.add(BatchNormalization(axis=-1))               # normalize each feature map before activation\n",
    "convLayer03 = Activation('relu')                     # activation\n",
    "model.add(convLayer03)\n",
    "\n",
    "# Convolution Layer 4\n",
    "model.add(Conv2D(64, (3, 3)))                        # 64 different 3x3 kernels -- so 64 feature maps\n",
    "model.add(BatchNormalization(axis=-1))               # normalize each feature map before activation\n",
    "model.add(Activation('relu'))                        # activation\n",
    "convLayer04 = MaxPooling2D(pool_size=(2,2))          # Pool the max values over a 2x2 kernel\n",
    "model.add(convLayer04)\n",
    "model.add(Flatten())                                 # Flatten final 4x4x64 output matrix into a 1024-length vector\n",
    "\n",
    "# Fully Connected Layer 5\n",
    "model.add(Dense(512))                                # 512 FCN nodes\n",
    "model.add(BatchNormalization())                      # normalization\n",
    "model.add(Activation('relu'))                        # activation\n",
    "\n",
    "# Fully Connected Layer 6                       \n",
    "model.add(Dropout(0.2))                              # 20% dropout of randomly selected nodes\n",
    "model.add(Dense(10))                                 # final 10 FCN nodes\n",
    "model.add(Activation('softmax'))                     # softmax activation\n",
    "\n",
    "model.compile(optimizer='adam',loss='categorical_crossentropy', metrics=['accuracy'])\n",
    "model.fit(train_images, train_labels, epochs=5, batch_size=300)\n",
    "\n",
    "test_loss, test_acc = model.evaluate(test_images, test_labels)\n",
    "print('test_acc:', test_acc)"
   ]
  },
  {
   "cell_type": "code",
   "execution_count": 12,
   "id": "3b14bbcd",
   "metadata": {},
   "outputs": [
    {
     "name": "stdout",
     "output_type": "stream",
     "text": [
      "Вероятность 0 = 0.0%\n",
      "Вероятность 1 = 0.0%\n",
      "Вероятность 2 = 0.0%\n",
      "Вероятность 3 = 0.231%\n",
      "Вероятность 4 = 0.0%\n",
      "Вероятность 5 = 0.0%\n",
      "Вероятность 6 = 0.0%\n",
      "Вероятность 7 = 0.0%\n",
      "Вероятность 8 = 99.768%\n",
      "Вероятность 9 = 0.001%\n"
     ]
    }
   ],
   "source": [
    "def customNumber():\n",
    "    img = asarray(invert(open('num.png').convert(mode=\"L\")))\n",
    "    img = img.reshape(-1, 28, 28, 1)\n",
    "    img = img.astype('float32')\n",
    "    img = img / 255.0\n",
    "    \n",
    "    return img\n",
    "\n",
    "x = customNumber()\n",
    "a = model.predict(x)\n",
    "i = 0\n",
    "\n",
    "for el in a[0]:\n",
    "    print(f\"Вероятность {i} = {round(float(el)*100, 3)}%\")\n",
    "    i += 1"
   ]
  },
  {
   "cell_type": "code",
   "execution_count": null,
   "id": "5a23435d",
   "metadata": {},
   "outputs": [],
   "source": []
  }
 ],
 "metadata": {
  "kernelspec": {
   "display_name": "Python 3 (ipykernel)",
   "language": "python",
   "name": "python3"
  },
  "language_info": {
   "codemirror_mode": {
    "name": "ipython",
    "version": 3
   },
   "file_extension": ".py",
   "mimetype": "text/x-python",
   "name": "python",
   "nbconvert_exporter": "python",
   "pygments_lexer": "ipython3",
   "version": "3.9.10"
  }
 },
 "nbformat": 4,
 "nbformat_minor": 5
}
